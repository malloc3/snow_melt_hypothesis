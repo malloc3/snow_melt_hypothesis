{
 "cells": [
  {
   "cell_type": "code",
   "execution_count": null,
   "id": "b8b979f3",
   "metadata": {},
   "outputs": [],
   "source": [
    "# This script is to add the \"normalized melt\" value or \"melt rate\".   (melt rate may be more accurate picture)\n",
    "\n",
    "# Calculating normalized melt is actually pretty tricky and not specifically clear tbh.\n",
    "#\n",
    "# The general idea is that the total amount of melt is relative to the amount there to melt.  If we have\n",
    "#  a ton of snow then melt is likely higher even if the total amount of \"heat\" or \"melt potential\" is equal.\n",
    "#  (e.g. If a snow pack is experiencing a melt rate of M = 0.05, then  0.05*10 < 0.05*100).\n",
    "#\n",
    "# Melt rate is related to the total amount of heat or energy in the system which may be more relevant to the\n",
    "#    the amphibian immune system than the total SWE that are released."
   ]
  },
  {
   "cell_type": "code",
   "execution_count": 1,
   "id": "4be7694a",
   "metadata": {},
   "outputs": [],
   "source": [
    "import csv\n",
    "import matplotlib.pyplot as plt\n",
    "import math\n",
    "import datetime\n",
    "import pandas as pd\n",
    "from matplotlib.ticker import MaxNLocator"
   ]
  },
  {
   "cell_type": "code",
   "execution_count": 4,
   "id": "2f714353",
   "metadata": {},
   "outputs": [],
   "source": [
    "# Save locations for dataframes formatted in a good way\n",
    "melt_data_csv = \"/Users/Cannon/Documents/School/UCSB/Briggs Lab/Thaw_Rate_Hypothesis/Raw Snow Melt Data (Bair et. Al) /Points_OF_Interest/DataFrame_CSV/dec_6_all_melt.csv\"\n",
    "site_data_csv = \"/Users/Cannon/Documents/School/UCSB/Briggs Lab/Thaw_Rate_Hypothesis/Raw Snow Melt Data (Bair et. Al) /Points_OF_Interest/DataFrame_CSV/dec_4_2023_pond_info.csv\"\n",
    "\n",
    "melt_data = pd.read_csv(melt_data_csv)\n",
    "site_data = pd.read_csv(site_data_csv)"
   ]
  },
  {
   "cell_type": "code",
   "execution_count": null,
   "id": "11395a10",
   "metadata": {},
   "outputs": [],
   "source": [
    "#Creates normalized melt\n",
    "# This normalization method is poor at best.  A better model/representation is achievable \n",
    "melt_data['normalized_melt'] = melt_data['melt'] * (melt_data['sweHybrid'] - melt_data['sweHybrid'].min())/(melt_data['sweHybrid'].max() - melt_data['sweHybrid'].min())\n",
    "melt_data['normalized_melt'].fillna(0, inplace=True)\n"
   ]
  },
  {
   "cell_type": "code",
   "execution_count": null,
   "id": "d204027c",
   "metadata": {},
   "outputs": [],
   "source": []
  }
 ],
 "metadata": {
  "kernelspec": {
   "display_name": "Python 3 (ipykernel)",
   "language": "python",
   "name": "python3"
  },
  "language_info": {
   "codemirror_mode": {
    "name": "ipython",
    "version": 3
   },
   "file_extension": ".py",
   "mimetype": "text/x-python",
   "name": "python",
   "nbconvert_exporter": "python",
   "pygments_lexer": "ipython3",
   "version": "3.8.12"
  }
 },
 "nbformat": 4,
 "nbformat_minor": 5
}
